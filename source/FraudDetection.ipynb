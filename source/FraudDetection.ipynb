{
 "cells": [
  {
   "cell_type": "code",
   "execution_count": 1,
   "id": "bb1b307a-0f1c-4520-b030-1b3639233f39",
   "metadata": {},
   "outputs": [],
   "source": [
    "#Import Statements\n",
    "from pyspark.sql import SparkSession\n",
    "from pyspark.sql import functions as F\n",
    "import os\n",
    "import shutil\n",
    "import zipfile\n"
   ]
  },
  {
   "cell_type": "code",
   "execution_count": 2,
   "id": "7cc0efdf-eaaa-4281-8f1e-4211a463e228",
   "metadata": {},
   "outputs": [],
   "source": [
    "## Start SparkSession\n",
    "spark=SparkSession.builder.appName(\"CreditCardFraudDetection\").getOrCreate()"
   ]
  },
  {
   "cell_type": "code",
   "execution_count": 3,
   "id": "42dfbf7d-8201-4472-8a44-967a9c0fc8b6",
   "metadata": {},
   "outputs": [
    {
     "data": {
      "text/plain": [
       "0"
      ]
     },
     "execution_count": 3,
     "metadata": {},
     "output_type": "execute_result"
    }
   ],
   "source": [
    "dataset_name = \"mlg-ulb/creditcardfraud\"\n",
    "download_path = \"data/\"\n",
    "\n",
    "# Create the directory if it doesn't exist\n",
    "os.makedirs(download_path, exist_ok=True)\n",
    "\n",
    "# Use the Kaggle API to download the dataset\n",
    "os.system(f\"kaggle datasets download -d {dataset_name} -p {download_path}\")"
   ]
  },
  {
   "cell_type": "code",
   "execution_count": 4,
   "id": "cfc7f282-1a12-4735-92bf-168df0f91c42",
   "metadata": {},
   "outputs": [],
   "source": [
    "zip_file = f\"{download_path}creditcardfraud.zip\"\n",
    "with zipfile.ZipFile(zip_file, \"r\") as zip_ref:\n",
    "    zip_ref.extractall(download_path)\n",
    "\n",
    "# Remove the zip file\n",
    "os.remove(zip_file)"
   ]
  },
  {
   "cell_type": "code",
   "execution_count": 5,
   "id": "12e23e3b-1b0b-429d-a43c-8aadb0dd44f8",
   "metadata": {},
   "outputs": [],
   "source": [
    "input_path = \"data/\"\n",
    "original_file = \"data/creditcard.csv\"\n",
    "#Duplicate the file\n",
    "for i in range(1, 6):\n",
    "    shutil.copy(original_file, f\"{input_path}creditcard_{i}.csv\")\n",
    "\n",
    "# Load all files into a single DataFrame\n",
    "df = spark.read.csv(f\"{input_path}/*.csv\", header=True, inferSchema=True)"
   ]
  },
  {
   "cell_type": "code",
   "execution_count": 6,
   "id": "034d7fc6-f08a-4b69-8779-86c1dc101e2a",
   "metadata": {},
   "outputs": [],
   "source": [
    "#Deduplicate the data in Dataframe\n",
    "df=df.dropDuplicates()"
   ]
  },
  {
   "cell_type": "code",
   "execution_count": 7,
   "id": "ac7e8689-e8e7-4850-a2d4-84b0d576baa4",
   "metadata": {},
   "outputs": [
    {
     "data": {
      "text/plain": [
       "283726"
      ]
     },
     "execution_count": 7,
     "metadata": {},
     "output_type": "execute_result"
    }
   ],
   "source": [
    "#Get the count of unique rows in the Dataframe\n",
    "df.count()"
   ]
  },
  {
   "cell_type": "code",
   "execution_count": 8,
   "id": "d89360ad-b03a-44e6-9e7a-928f93de4ce8",
   "metadata": {},
   "outputs": [
    {
     "name": "stdout",
     "output_type": "stream",
     "text": [
      "root\n",
      " |-- Time: double (nullable = true)\n",
      " |-- V1: double (nullable = true)\n",
      " |-- V2: double (nullable = true)\n",
      " |-- V3: double (nullable = true)\n",
      " |-- V4: double (nullable = true)\n",
      " |-- V5: double (nullable = true)\n",
      " |-- V6: double (nullable = true)\n",
      " |-- V7: double (nullable = true)\n",
      " |-- V8: double (nullable = true)\n",
      " |-- V9: double (nullable = true)\n",
      " |-- V10: double (nullable = true)\n",
      " |-- V11: double (nullable = true)\n",
      " |-- V12: double (nullable = true)\n",
      " |-- V13: double (nullable = true)\n",
      " |-- V14: double (nullable = true)\n",
      " |-- V15: double (nullable = true)\n",
      " |-- V16: double (nullable = true)\n",
      " |-- V17: double (nullable = true)\n",
      " |-- V18: double (nullable = true)\n",
      " |-- V19: double (nullable = true)\n",
      " |-- V20: double (nullable = true)\n",
      " |-- V21: double (nullable = true)\n",
      " |-- V22: double (nullable = true)\n",
      " |-- V23: double (nullable = true)\n",
      " |-- V24: double (nullable = true)\n",
      " |-- V25: double (nullable = true)\n",
      " |-- V26: double (nullable = true)\n",
      " |-- V27: double (nullable = true)\n",
      " |-- V28: double (nullable = true)\n",
      " |-- Amount: double (nullable = true)\n",
      " |-- Class: integer (nullable = true)\n",
      "\n"
     ]
    }
   ],
   "source": [
    "# Check the schema\n",
    "df.printSchema()"
   ]
  },
  {
   "cell_type": "code",
   "execution_count": 9,
   "id": "734db776-07f7-45fc-bc2d-3212ca435999",
   "metadata": {},
   "outputs": [
    {
     "name": "stdout",
     "output_type": "stream",
     "text": [
      "Rows: 283726, Columns: 31\n"
     ]
    }
   ],
   "source": [
    "# Dataset shape\n",
    "print(f\"Rows: {df.count()}, Columns: {len(df.columns)}\")"
   ]
  },
  {
   "cell_type": "code",
   "execution_count": 10,
   "id": "938717d5-565d-42a2-9727-b2675ec1c84a",
   "metadata": {},
   "outputs": [
    {
     "name": "stdout",
     "output_type": "stream",
     "text": [
      "+-----------------------------------------------------+-----------------------------------------------+-----------------------------------------------+-----------------------------------------------+-----------------------------------------------+-----------------------------------------------+-----------------------------------------------+-----------------------------------------------+-----------------------------------------------+-----------------------------------------------+--------------------------------------------------+--------------------------------------------------+--------------------------------------------------+--------------------------------------------------+--------------------------------------------------+--------------------------------------------------+--------------------------------------------------+--------------------------------------------------+--------------------------------------------------+--------------------------------------------------+--------------------------------------------------+--------------------------------------------------+--------------------------------------------------+--------------------------------------------------+--------------------------------------------------+--------------------------------------------------+--------------------------------------------------+--------------------------------------------------+--------------------------------------------------+-----------------------------------------------------------+--------------------------------------------------------+\n",
      "|count(CASE WHEN (Time IS NULL) THEN Time END AS Time)|count(CASE WHEN (V1 IS NULL) THEN V1 END AS V1)|count(CASE WHEN (V2 IS NULL) THEN V2 END AS V2)|count(CASE WHEN (V3 IS NULL) THEN V3 END AS V3)|count(CASE WHEN (V4 IS NULL) THEN V4 END AS V4)|count(CASE WHEN (V5 IS NULL) THEN V5 END AS V5)|count(CASE WHEN (V6 IS NULL) THEN V6 END AS V6)|count(CASE WHEN (V7 IS NULL) THEN V7 END AS V7)|count(CASE WHEN (V8 IS NULL) THEN V8 END AS V8)|count(CASE WHEN (V9 IS NULL) THEN V9 END AS V9)|count(CASE WHEN (V10 IS NULL) THEN V10 END AS V10)|count(CASE WHEN (V11 IS NULL) THEN V11 END AS V11)|count(CASE WHEN (V12 IS NULL) THEN V12 END AS V12)|count(CASE WHEN (V13 IS NULL) THEN V13 END AS V13)|count(CASE WHEN (V14 IS NULL) THEN V14 END AS V14)|count(CASE WHEN (V15 IS NULL) THEN V15 END AS V15)|count(CASE WHEN (V16 IS NULL) THEN V16 END AS V16)|count(CASE WHEN (V17 IS NULL) THEN V17 END AS V17)|count(CASE WHEN (V18 IS NULL) THEN V18 END AS V18)|count(CASE WHEN (V19 IS NULL) THEN V19 END AS V19)|count(CASE WHEN (V20 IS NULL) THEN V20 END AS V20)|count(CASE WHEN (V21 IS NULL) THEN V21 END AS V21)|count(CASE WHEN (V22 IS NULL) THEN V22 END AS V22)|count(CASE WHEN (V23 IS NULL) THEN V23 END AS V23)|count(CASE WHEN (V24 IS NULL) THEN V24 END AS V24)|count(CASE WHEN (V25 IS NULL) THEN V25 END AS V25)|count(CASE WHEN (V26 IS NULL) THEN V26 END AS V26)|count(CASE WHEN (V27 IS NULL) THEN V27 END AS V27)|count(CASE WHEN (V28 IS NULL) THEN V28 END AS V28)|count(CASE WHEN (Amount IS NULL) THEN Amount END AS Amount)|count(CASE WHEN (Class IS NULL) THEN Class END AS Class)|\n",
      "+-----------------------------------------------------+-----------------------------------------------+-----------------------------------------------+-----------------------------------------------+-----------------------------------------------+-----------------------------------------------+-----------------------------------------------+-----------------------------------------------+-----------------------------------------------+-----------------------------------------------+--------------------------------------------------+--------------------------------------------------+--------------------------------------------------+--------------------------------------------------+--------------------------------------------------+--------------------------------------------------+--------------------------------------------------+--------------------------------------------------+--------------------------------------------------+--------------------------------------------------+--------------------------------------------------+--------------------------------------------------+--------------------------------------------------+--------------------------------------------------+--------------------------------------------------+--------------------------------------------------+--------------------------------------------------+--------------------------------------------------+--------------------------------------------------+-----------------------------------------------------------+--------------------------------------------------------+\n",
      "|                                                    0|                                              0|                                              0|                                              0|                                              0|                                              0|                                              0|                                              0|                                              0|                                              0|                                                 0|                                                 0|                                                 0|                                                 0|                                                 0|                                                 0|                                                 0|                                                 0|                                                 0|                                                 0|                                                 0|                                                 0|                                                 0|                                                 0|                                                 0|                                                 0|                                                 0|                                                 0|                                                 0|                                                          0|                                                       0|\n",
      "+-----------------------------------------------------+-----------------------------------------------+-----------------------------------------------+-----------------------------------------------+-----------------------------------------------+-----------------------------------------------+-----------------------------------------------+-----------------------------------------------+-----------------------------------------------+-----------------------------------------------+--------------------------------------------------+--------------------------------------------------+--------------------------------------------------+--------------------------------------------------+--------------------------------------------------+--------------------------------------------------+--------------------------------------------------+--------------------------------------------------+--------------------------------------------------+--------------------------------------------------+--------------------------------------------------+--------------------------------------------------+--------------------------------------------------+--------------------------------------------------+--------------------------------------------------+--------------------------------------------------+--------------------------------------------------+--------------------------------------------------+--------------------------------------------------+-----------------------------------------------------------+--------------------------------------------------------+\n",
      "\n"
     ]
    }
   ],
   "source": [
    "#Check for nulls in the Dataframe\n",
    "df.select([F.count(F.when(F.col(c).isNull(), c).alias(c)) for c in df.columns]).show()"
   ]
  },
  {
   "cell_type": "code",
   "execution_count": 11,
   "id": "04c51441-9e5f-4ea5-ab35-f3e4906541d3",
   "metadata": {},
   "outputs": [
    {
     "name": "stdout",
     "output_type": "stream",
     "text": [
      "+-------+-----------------+--------------------+--------------------+--------------------+--------------------+--------------------+--------------------+--------------------+--------------------+--------------------+--------------------+--------------------+--------------------+--------------------+--------------------+--------------------+--------------------+--------------------+--------------------+--------------------+--------------------+--------------------+--------------------+--------------------+--------------------+--------------------+--------------------+--------------------+--------------------+------------------+--------------------+\n",
      "|summary|             Time|                  V1|                  V2|                  V3|                  V4|                  V5|                  V6|                  V7|                  V8|                  V9|                 V10|                 V11|                 V12|                 V13|                 V14|                 V15|                 V16|                 V17|                 V18|                 V19|                 V20|                 V21|                 V22|                 V23|                 V24|                 V25|                 V26|                 V27|                 V28|            Amount|               Class|\n",
      "+-------+-----------------+--------------------+--------------------+--------------------+--------------------+--------------------+--------------------+--------------------+--------------------+--------------------+--------------------+--------------------+--------------------+--------------------+--------------------+--------------------+--------------------+--------------------+--------------------+--------------------+--------------------+--------------------+--------------------+--------------------+--------------------+--------------------+--------------------+--------------------+--------------------+------------------+--------------------+\n",
      "|  count|           283726|              283726|              283726|              283726|              283726|              283726|              283726|              283726|              283726|              283726|              283726|              283726|              283726|              283726|              283726|              283726|              283726|              283726|              283726|              283726|              283726|              283726|              283726|              283726|              283726|              283726|              283726|              283726|              283726|            283726|              283726|\n",
      "|   mean|94811.07759951502|0.005917149836165632|-0.00413475562812...|0.001613119355879...|-0.00296630772034...|0.001827560113033...|-0.00113948818973...|0.001800691765307154|-8.54452573454033...|-0.00159619962170...|-0.00144071048503...|2.017576399593661...|-7.14787657406105...|6.033757913237117E-4|2.523173005216622E-4|0.001042838049814...|0.001162012815673...|1.701609445483608...|0.001515166010458...|-2.64263587519085...|1.871752473165077E-4|-3.70593123359185...|-1.50275631649489...|1.981707238115099...|2.142068242223953E-4|-2.32386989607422...|1.494410878996654E-4|0.001763031617330...|5.473121010898925E-4| 88.47268731100479|0.001667101358352777|\n",
      "| stddev|47481.04789061952|  1.9480261416254694|  1.6467029642463498|   1.508681916205915|  1.4141840144475155|   1.377008279280089|  1.3319305917151651|  1.2276638954422563|  1.1790544275788055|  1.0954924810736169|  1.0764073501381088|  1.0187201526753207|  0.9946744452140565|   0.995429636770304|  0.9522150900331084|  0.9148936334525614|  0.8736963275712333|  0.8425073207466586|  0.8373775297813786|  0.8133785531048033|  0.7699842414107981|   0.723909366862053|  0.7245504654239981|  0.6237023785807299|  0.6056266981643226|  0.5212203166871485|  0.4820529408275826|  0.3957438809320346| 0.32802660429357866|250.39943711577308|0.040796176259338596|\n",
      "|    min|              0.0|    -56.407509631329|   -72.7157275629303|   -48.3255893623954|   -5.68317119816995|   -113.743306711146|   -26.1605059358433|   -43.5572415712451|   -73.2167184552674|   -13.4340663182301|   -24.5882624372475|   -4.79747346479757|   -18.6837146333443|   -5.79188120632084|   -19.2143254902614|   -4.49894467676621|   -14.1298545174931|   -25.1627993693248|   -9.49874592104677|   -7.21352743017759|    -54.497720494566|   -34.8303821448146|    -10.933143697655|   -44.8077352037913|   -2.83662691870341|   -10.2953970749851|   -2.60455055280817|   -22.5656793207827|   -15.4300839055349|               0.0|                   0|\n",
      "|    max|         172792.0|    2.45492999121121|    22.0577289904909|    9.38255843282114|    16.8753440335975|    34.8016658766686|    73.3016255459646|    120.589493945238|    20.0072083651213|    15.5949946071278|    23.7451361206545|    12.0189131816199|     7.8483920756446|    7.12688295859376|    10.5267660517847|    8.87774159774277|    17.3151115176278|    9.25352625047285|    5.04106918541184|    5.59197142733558|    39.4209042482199|    27.2028391573154|    10.5030900899454|    22.5284116897749|    4.58454913689817|    7.51958867870916|     3.5173456116238|    31.6121981061363|    33.8478078188831|          25691.16|                   1|\n",
      "+-------+-----------------+--------------------+--------------------+--------------------+--------------------+--------------------+--------------------+--------------------+--------------------+--------------------+--------------------+--------------------+--------------------+--------------------+--------------------+--------------------+--------------------+--------------------+--------------------+--------------------+--------------------+--------------------+--------------------+--------------------+--------------------+--------------------+--------------------+--------------------+--------------------+------------------+--------------------+\n",
      "\n"
     ]
    }
   ],
   "source": [
    "# Descriptive statistics\n",
    "df.describe().show()\n"
   ]
  },
  {
   "cell_type": "code",
   "execution_count": 12,
   "id": "f15bf396-52d3-4561-8065-52822955bcd1",
   "metadata": {},
   "outputs": [
    {
     "name": "stdout",
     "output_type": "stream",
     "text": [
      "+--------------------+\n",
      "|          avg(Class)|\n",
      "+--------------------+\n",
      "|0.001667101358352777|\n",
      "+--------------------+\n",
      "\n"
     ]
    }
   ],
   "source": [
    "# Print the mean of the Class column\n",
    "df.select(F.mean(df['Class'])).show()"
   ]
  },
  {
   "cell_type": "code",
   "execution_count": 13,
   "id": "df44e30c-f6ac-437d-9b8d-042bf026c022",
   "metadata": {},
   "outputs": [
    {
     "name": "stdout",
     "output_type": "stream",
     "text": [
      "+--------------+\n",
      "|median(Amount)|\n",
      "+--------------+\n",
      "|          22.0|\n",
      "+--------------+\n",
      "\n"
     ]
    }
   ],
   "source": [
    "# Print the median of Amount column\n",
    "df.select(F.median(df['Amount'])).show()"
   ]
  },
  {
   "cell_type": "code",
   "execution_count": 14,
   "id": "20e1e8d8-52aa-46f0-be53-d82a16f00cf9",
   "metadata": {},
   "outputs": [
    {
     "name": "stdout",
     "output_type": "stream",
     "text": [
      "+----------+\n",
      "|mode(Time)|\n",
      "+----------+\n",
      "|    3767.0|\n",
      "+----------+\n",
      "\n"
     ]
    }
   ],
   "source": [
    "#Print the mode of the Time column\n",
    "df.select(F.mode(df['Time'])).show()"
   ]
  },
  {
   "cell_type": "code",
   "execution_count": 15,
   "id": "2d738025-4d26-4480-9df3-a3f7bbc5b1e1",
   "metadata": {},
   "outputs": [],
   "source": [
    "# Rename columns for consistency\n",
    "df = df.toDF(*[col.lower().replace(\" \", \"_\") for col in df.columns])"
   ]
  },
  {
   "cell_type": "code",
   "execution_count": 16,
   "id": "428dc97a-b602-48e5-963c-c91c26090967",
   "metadata": {},
   "outputs": [
    {
     "name": "stdout",
     "output_type": "stream",
     "text": [
      "Mean of Amounts is:  88.47268731100479\n"
     ]
    }
   ],
   "source": [
    "# Find the mean amount\n",
    "meanAmount=df.select(F.mean(F.col(\"amount\"))).collect()[0][0]\n",
    "print(\"Mean of Amounts is: \",meanAmount)"
   ]
  },
  {
   "cell_type": "code",
   "execution_count": null,
   "id": "be4dd7bf-0d2a-431b-86b0-491cb7a52ee2",
   "metadata": {},
   "outputs": [],
   "source": [
    "# Find the Standard deviation of Amount\n",
    "sdvAmount=df.select(F.stddev(F.col(\"amount\"))).collect()[0][0]\n",
    "print(\"Standard devation of Amounts is: \", sdvAmount)"
   ]
  },
  {
   "cell_type": "code",
   "execution_count": null,
   "id": "58994b31-cf61-45e5-9279-35824edc4a87",
   "metadata": {},
   "outputs": [],
   "source": [
    "# Add NormalizedAmount column\n",
    "df=df.withColumn(\"NormalizedAmount\",(F.col(\"amount\")-meanAmount)/sdvAmount).withColumn(\"AmountLog\",F.log(\"amount\")+1)"
   ]
  },
  {
   "cell_type": "code",
   "execution_count": null,
   "id": "4b0e1093-8f9e-4c38-a5e6-a0ea7bef44a5",
   "metadata": {},
   "outputs": [],
   "source": [
    "# Save the df in parquet format\n",
    "output_path = \"output_data/\"\n",
    "df.write.parquet(output_path, mode=\"overwrite\")\n",
    "print(f\"Data saved to {output_path} in Parquet format.\")"
   ]
  },
  {
   "cell_type": "code",
   "execution_count": null,
   "id": "2ddf8f44-adeb-4d85-afc9-5364a5f5ec16",
   "metadata": {},
   "outputs": [],
   "source": [
    "#Create a Temp View\n",
    "df.createOrReplaceTempView(\"creditcard_data\")\n",
    "\n",
    "# SQL queries\n",
    "query1 = \"SELECT AVG(NormalizedAmount) AS avg_norm_amount FROM creditcard_data WHERE class = 1\"\n",
    "query2 = \"SELECT MAX(NormalizedAmount) AS max_norm_amount FROM creditcard_data WHERE class = 0\"\n",
    "query3 = \"SELECT class, AVG(AmountLog) AS avg_amountlog FROM creditcard_data GROUP BY class\"\n",
    "\n",
    "# Execute queries\n",
    "avg_norm_amount = spark.sql(query1).show()\n",
    "max_norm_amount = spark.sql(query2).show()\n",
    "avg_amountlog = spark.sql(query3).show()"
   ]
  },
  {
   "cell_type": "code",
   "execution_count": null,
   "id": "3d78bc46-701b-4c63-826c-839c0ce25edc",
   "metadata": {},
   "outputs": [],
   "source": []
  },
  {
   "cell_type": "code",
   "execution_count": null,
   "id": "846f7946-5daa-4754-818e-f2adf2f7784c",
   "metadata": {},
   "outputs": [],
   "source": []
  },
  {
   "cell_type": "code",
   "execution_count": null,
   "id": "39efe3b6-a7f1-49ac-9247-f4fe7e133499",
   "metadata": {},
   "outputs": [],
   "source": []
  },
  {
   "cell_type": "code",
   "execution_count": null,
   "id": "b9b04af9-4f1a-4c3b-9656-36386d1e2871",
   "metadata": {},
   "outputs": [],
   "source": []
  },
  {
   "cell_type": "code",
   "execution_count": null,
   "id": "09bf261a-f35b-4003-b4c7-400fbaa7853f",
   "metadata": {},
   "outputs": [],
   "source": []
  },
  {
   "cell_type": "code",
   "execution_count": null,
   "id": "77081bb2-7db8-48d1-aa58-b298ed28bb6b",
   "metadata": {},
   "outputs": [],
   "source": []
  },
  {
   "cell_type": "code",
   "execution_count": null,
   "id": "dfa227e6-6120-4b8b-a946-9ccb52e06b2a",
   "metadata": {},
   "outputs": [],
   "source": []
  },
  {
   "cell_type": "code",
   "execution_count": null,
   "id": "71c694ad-9d71-4da3-9f0b-c46d52b343af",
   "metadata": {},
   "outputs": [],
   "source": []
  },
  {
   "cell_type": "code",
   "execution_count": null,
   "id": "201eee0d-4dc9-4e16-bb99-a2977664fbeb",
   "metadata": {},
   "outputs": [],
   "source": []
  },
  {
   "cell_type": "code",
   "execution_count": null,
   "id": "0249ae11-517e-4a0d-8a11-4d6dc1dde2bc",
   "metadata": {},
   "outputs": [],
   "source": []
  },
  {
   "cell_type": "code",
   "execution_count": null,
   "id": "e944c070-606f-4037-b790-b24ef7c182a4",
   "metadata": {},
   "outputs": [],
   "source": []
  },
  {
   "cell_type": "code",
   "execution_count": null,
   "id": "b8ee2e09-7512-40af-a45a-2320bb854c84",
   "metadata": {},
   "outputs": [],
   "source": []
  },
  {
   "cell_type": "code",
   "execution_count": null,
   "id": "05f30c82-3657-44a4-9613-9fff1a7d4a17",
   "metadata": {},
   "outputs": [],
   "source": []
  },
  {
   "cell_type": "code",
   "execution_count": null,
   "id": "9c1532e9-0022-4157-a0a3-e7fcd6d694f6",
   "metadata": {},
   "outputs": [],
   "source": []
  },
  {
   "cell_type": "code",
   "execution_count": null,
   "id": "5b354ca5-f49d-449e-b2f4-983d88a24675",
   "metadata": {},
   "outputs": [],
   "source": []
  },
  {
   "cell_type": "code",
   "execution_count": null,
   "id": "760ccf35-f221-47ae-a260-aabfec8c84d1",
   "metadata": {},
   "outputs": [],
   "source": []
  },
  {
   "cell_type": "code",
   "execution_count": null,
   "id": "df050437-6249-43cc-971e-a70284d16eb6",
   "metadata": {},
   "outputs": [],
   "source": []
  },
  {
   "cell_type": "code",
   "execution_count": null,
   "id": "2795e651-ca31-4ad2-8dd2-c4acbc673288",
   "metadata": {},
   "outputs": [],
   "source": []
  },
  {
   "cell_type": "code",
   "execution_count": null,
   "id": "b95af01c-50e0-454b-8abb-1dbb0b4753e5",
   "metadata": {},
   "outputs": [],
   "source": []
  },
  {
   "cell_type": "code",
   "execution_count": null,
   "id": "0149c537-52c2-4855-800b-6263cc48b6dd",
   "metadata": {},
   "outputs": [],
   "source": []
  },
  {
   "cell_type": "code",
   "execution_count": null,
   "id": "5808fea9-a0a9-44a7-a2b6-c1c22bcf3efb",
   "metadata": {},
   "outputs": [],
   "source": []
  },
  {
   "cell_type": "code",
   "execution_count": null,
   "id": "d94ee244-ac94-43f9-bcc8-03fe2130f4f0",
   "metadata": {},
   "outputs": [],
   "source": []
  }
 ],
 "metadata": {
  "kernelspec": {
   "display_name": "Python 3 (ipykernel)",
   "language": "python",
   "name": "python3"
  },
  "language_info": {
   "codemirror_mode": {
    "name": "ipython",
    "version": 3
   },
   "file_extension": ".py",
   "mimetype": "text/x-python",
   "name": "python",
   "nbconvert_exporter": "python",
   "pygments_lexer": "ipython3",
   "version": "3.12.7"
  }
 },
 "nbformat": 4,
 "nbformat_minor": 5
}
